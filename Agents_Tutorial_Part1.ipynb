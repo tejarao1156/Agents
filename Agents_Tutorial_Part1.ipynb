{
 "cells": [
  {
   "cell_type": "code",
   "execution_count": 3,
   "metadata": {},
   "outputs": [],
   "source": [
    "import os\n",
    "#from google.colab import userdata\n",
    "api_key = \"aejrhbfilefhbvoe;hfbvo;\"\n",
    "os.environ['OPENAI_API_KEY'] = api_key"
   ]
  },
  {
   "cell_type": "code",
   "execution_count": 4,
   "metadata": {},
   "outputs": [
    {
     "data": {
      "text/plain": [
       "'from litellm import completion\\nfrom typing import List, Dict\\n\\n\\ndef generate_response(messages: List[Dict]) -> str:\\n    #Call LLM to get response\\n    response = completion(\\n        api_base=\"http://192.168.1.119:1234/v1\",\\n        model=\"deepseek-r1-distill-qwen-7b\",\\n        messages=messages,\\n        max_tokens=1024\\n    )\\n    return response.choices[0].message.content\\n\\n\\nmessages = [\\n    {\"role\": \"system\", \"content\": \"You are an expert software engineer that prefers functional programming.\"},\\n    {\"role\": \"user\", \"content\": \"Write a function to swap the keys and values in a dictionary.\"}\\n]\\n\\nresponse = generate_response(messages)\\nprint(response)'"
      ]
     },
     "execution_count": 4,
     "metadata": {},
     "output_type": "execute_result"
    }
   ],
   "source": [
    "\"\"\"from litellm import completion\n",
    "from typing import List, Dict\n",
    "\n",
    "\n",
    "def generate_response(messages: List[Dict]) -> str:\n",
    "    #Call LLM to get response\n",
    "    response = completion(\n",
    "        api_base=\"http://192.168.1.119:1234/v1\",\n",
    "        model=\"deepseek-r1-distill-qwen-7b\",\n",
    "        messages=messages,\n",
    "        max_tokens=1024\n",
    "    )\n",
    "    return response.choices[0].message.content\n",
    "\n",
    "\n",
    "messages = [\n",
    "    {\"role\": \"system\", \"content\": \"You are an expert software engineer that prefers functional programming.\"},\n",
    "    {\"role\": \"user\", \"content\": \"Write a function to swap the keys and values in a dictionary.\"}\n",
    "]\n",
    "\n",
    "response = generate_response(messages)\n",
    "print(response)\"\"\""
   ]
  },
  {
   "cell_type": "code",
   "execution_count": 6,
   "metadata": {},
   "outputs": [
    {
     "name": "stdout",
     "output_type": "stream",
     "text": [
      "ChatCompletionMessage(content=\"Hello there, friend, a joyful plea,\\nI’m Gemma, an AI, happy to be! \\nA language model, fresh and new,\\nLet's chat and learn, just me and you!\", refusal=None, role='assistant', annotations=None, audio=None, function_call=None, tool_calls=None)\n"
     ]
    }
   ],
   "source": [
    "# Example: reuse your existing OpenAI setup\n",
    "from openai import OpenAI\n",
    "\n",
    "# Point to the local server\n",
    "client = OpenAI(base_url=\"http://192.168.1.119:1234/v1\", api_key=\"lm-studio\")\n",
    "\n",
    "completion = client.chat.completions.create(\n",
    "  model=\"gemma-3-4b-it\",\n",
    "  messages=[\n",
    "    {\"role\": \"system\", \"content\": \"Always answer in rhymes.\"},\n",
    "    {\"role\": \"user\", \"content\": \"Introduce yourself.\"}\n",
    "  ],\n",
    "  temperature=0.7,\n",
    ")\n",
    "\n",
    "print(completion.choices[0].message)\n"
   ]
  },
  {
   "cell_type": "code",
   "execution_count": 7,
   "metadata": {},
   "outputs": [],
   "source": [
    "#ProgrammaticPrompting\n",
    "#Automating the prompt-response cycle that humans do manually in a conversation. \n",
    "\n",
    "from openai import OpenAI\n",
    "\n",
    "def call_llm(messages):\n",
    "  \n",
    "  # Point to the local server\n",
    "  client = OpenAI(base_url=\"http://192.168.1.119:1234/v1\", api_key=\"lm-studio\")\n",
    "\n",
    "  completion = client.chat.completions.create(\n",
    "    model=\"gemma-3-4b-it\",\n",
    "    messages=messages,\n",
    "    temperature=0.7)\n",
    "\n",
    "  return completion#completion.choices[0].message"
   ]
  },
  {
   "cell_type": "code",
   "execution_count": 8,
   "metadata": {},
   "outputs": [
    {
     "ename": "KeyboardInterrupt",
     "evalue": "",
     "output_type": "error",
     "traceback": [
      "\u001b[31m---------------------------------------------------------------------------\u001b[39m",
      "\u001b[31mKeyboardInterrupt\u001b[39m                         Traceback (most recent call last)",
      "\u001b[36mCell\u001b[39m\u001b[36m \u001b[39m\u001b[32mIn[8]\u001b[39m\u001b[32m, line 5\u001b[39m\n\u001b[32m      1\u001b[39m messages_llm = [\n\u001b[32m      2\u001b[39m       {\u001b[33m\"\u001b[39m\u001b[33mrole\u001b[39m\u001b[33m\"\u001b[39m: \u001b[33m\"\u001b[39m\u001b[33msystem\u001b[39m\u001b[33m\"\u001b[39m, \u001b[33m\"\u001b[39m\u001b[33mcontent\u001b[39m\u001b[33m\"\u001b[39m: \u001b[33m\"\u001b[39m\u001b[33mYou are an expert software engineer that prefers functional programming.\u001b[39m\u001b[33m\"\u001b[39m},\n\u001b[32m      3\u001b[39m       {\u001b[33m\"\u001b[39m\u001b[33mrole\u001b[39m\u001b[33m\"\u001b[39m: \u001b[33m\"\u001b[39m\u001b[33muser\u001b[39m\u001b[33m\"\u001b[39m, \u001b[33m\"\u001b[39m\u001b[33mcontent\u001b[39m\u001b[33m\"\u001b[39m: \u001b[33m\"\u001b[39m\u001b[33mWrite a function to swap the keys and values in a dictionary.\u001b[39m\u001b[33m\"\u001b[39m}\n\u001b[32m      4\u001b[39m     ]\n\u001b[32m----> \u001b[39m\u001b[32m5\u001b[39m output = \u001b[43mcall_llm\u001b[49m\u001b[43m(\u001b[49m\u001b[43mmessages_llm\u001b[49m\u001b[43m)\u001b[49m\n\u001b[32m      6\u001b[39m \u001b[38;5;28mprint\u001b[39m(output.choices[\u001b[32m0\u001b[39m].message)\n",
      "\u001b[36mCell\u001b[39m\u001b[36m \u001b[39m\u001b[32mIn[7]\u001b[39m\u001b[32m, line 11\u001b[39m, in \u001b[36mcall_llm\u001b[39m\u001b[34m(messages)\u001b[39m\n\u001b[32m      6\u001b[39m \u001b[38;5;28;01mdef\u001b[39;00m\u001b[38;5;250m \u001b[39m\u001b[34mcall_llm\u001b[39m(messages):\n\u001b[32m      7\u001b[39m \n\u001b[32m      8\u001b[39m   \u001b[38;5;66;03m# Point to the local server\u001b[39;00m\n\u001b[32m      9\u001b[39m   client = OpenAI(base_url=\u001b[33m\"\u001b[39m\u001b[33mhttp://192.168.1.119:1234/v1\u001b[39m\u001b[33m\"\u001b[39m, api_key=\u001b[33m\"\u001b[39m\u001b[33mlm-studio\u001b[39m\u001b[33m\"\u001b[39m)\n\u001b[32m---> \u001b[39m\u001b[32m11\u001b[39m   completion = \u001b[43mclient\u001b[49m\u001b[43m.\u001b[49m\u001b[43mchat\u001b[49m\u001b[43m.\u001b[49m\u001b[43mcompletions\u001b[49m\u001b[43m.\u001b[49m\u001b[43mcreate\u001b[49m\u001b[43m(\u001b[49m\n\u001b[32m     12\u001b[39m \u001b[43m    \u001b[49m\u001b[43mmodel\u001b[49m\u001b[43m=\u001b[49m\u001b[33;43m\"\u001b[39;49m\u001b[33;43mgemma-3-4b-it\u001b[39;49m\u001b[33;43m\"\u001b[39;49m\u001b[43m,\u001b[49m\n\u001b[32m     13\u001b[39m \u001b[43m    \u001b[49m\u001b[43mmessages\u001b[49m\u001b[43m=\u001b[49m\u001b[43mmessages\u001b[49m\u001b[43m,\u001b[49m\n\u001b[32m     14\u001b[39m \u001b[43m    \u001b[49m\u001b[43mtemperature\u001b[49m\u001b[43m=\u001b[49m\u001b[32;43m0.7\u001b[39;49m\u001b[43m)\u001b[49m\n\u001b[32m     16\u001b[39m   \u001b[38;5;28;01mreturn\u001b[39;00m completion\n",
      "\u001b[36mFile \u001b[39m\u001b[32m~/ENTER/envs/myenv/lib/python3.13/site-packages/openai/_utils/_utils.py:279\u001b[39m, in \u001b[36mrequired_args.<locals>.inner.<locals>.wrapper\u001b[39m\u001b[34m(*args, **kwargs)\u001b[39m\n\u001b[32m    277\u001b[39m             msg = \u001b[33mf\u001b[39m\u001b[33m\"\u001b[39m\u001b[33mMissing required argument: \u001b[39m\u001b[38;5;132;01m{\u001b[39;00mquote(missing[\u001b[32m0\u001b[39m])\u001b[38;5;132;01m}\u001b[39;00m\u001b[33m\"\u001b[39m\n\u001b[32m    278\u001b[39m     \u001b[38;5;28;01mraise\u001b[39;00m \u001b[38;5;167;01mTypeError\u001b[39;00m(msg)\n\u001b[32m--> \u001b[39m\u001b[32m279\u001b[39m \u001b[38;5;28;01mreturn\u001b[39;00m \u001b[43mfunc\u001b[49m\u001b[43m(\u001b[49m\u001b[43m*\u001b[49m\u001b[43margs\u001b[49m\u001b[43m,\u001b[49m\u001b[43m \u001b[49m\u001b[43m*\u001b[49m\u001b[43m*\u001b[49m\u001b[43mkwargs\u001b[49m\u001b[43m)\u001b[49m\n",
      "\u001b[36mFile \u001b[39m\u001b[32m~/ENTER/envs/myenv/lib/python3.13/site-packages/openai/resources/chat/completions/completions.py:914\u001b[39m, in \u001b[36mCompletions.create\u001b[39m\u001b[34m(self, messages, model, audio, frequency_penalty, function_call, functions, logit_bias, logprobs, max_completion_tokens, max_tokens, metadata, modalities, n, parallel_tool_calls, prediction, presence_penalty, reasoning_effort, response_format, seed, service_tier, stop, store, stream, stream_options, temperature, tool_choice, tools, top_logprobs, top_p, user, web_search_options, extra_headers, extra_query, extra_body, timeout)\u001b[39m\n\u001b[32m    871\u001b[39m \u001b[38;5;129m@required_args\u001b[39m([\u001b[33m\"\u001b[39m\u001b[33mmessages\u001b[39m\u001b[33m\"\u001b[39m, \u001b[33m\"\u001b[39m\u001b[33mmodel\u001b[39m\u001b[33m\"\u001b[39m], [\u001b[33m\"\u001b[39m\u001b[33mmessages\u001b[39m\u001b[33m\"\u001b[39m, \u001b[33m\"\u001b[39m\u001b[33mmodel\u001b[39m\u001b[33m\"\u001b[39m, \u001b[33m\"\u001b[39m\u001b[33mstream\u001b[39m\u001b[33m\"\u001b[39m])\n\u001b[32m    872\u001b[39m \u001b[38;5;28;01mdef\u001b[39;00m\u001b[38;5;250m \u001b[39m\u001b[34mcreate\u001b[39m(\n\u001b[32m    873\u001b[39m     \u001b[38;5;28mself\u001b[39m,\n\u001b[32m   (...)\u001b[39m\u001b[32m    911\u001b[39m     timeout: \u001b[38;5;28mfloat\u001b[39m | httpx.Timeout | \u001b[38;5;28;01mNone\u001b[39;00m | NotGiven = NOT_GIVEN,\n\u001b[32m    912\u001b[39m ) -> ChatCompletion | Stream[ChatCompletionChunk]:\n\u001b[32m    913\u001b[39m     validate_response_format(response_format)\n\u001b[32m--> \u001b[39m\u001b[32m914\u001b[39m     \u001b[38;5;28;01mreturn\u001b[39;00m \u001b[38;5;28;43mself\u001b[39;49m\u001b[43m.\u001b[49m\u001b[43m_post\u001b[49m\u001b[43m(\u001b[49m\n\u001b[32m    915\u001b[39m \u001b[43m        \u001b[49m\u001b[33;43m\"\u001b[39;49m\u001b[33;43m/chat/completions\u001b[39;49m\u001b[33;43m\"\u001b[39;49m\u001b[43m,\u001b[49m\n\u001b[32m    916\u001b[39m \u001b[43m        \u001b[49m\u001b[43mbody\u001b[49m\u001b[43m=\u001b[49m\u001b[43mmaybe_transform\u001b[49m\u001b[43m(\u001b[49m\n\u001b[32m    917\u001b[39m \u001b[43m            \u001b[49m\u001b[43m{\u001b[49m\n\u001b[32m    918\u001b[39m \u001b[43m                \u001b[49m\u001b[33;43m\"\u001b[39;49m\u001b[33;43mmessages\u001b[39;49m\u001b[33;43m\"\u001b[39;49m\u001b[43m:\u001b[49m\u001b[43m \u001b[49m\u001b[43mmessages\u001b[49m\u001b[43m,\u001b[49m\n\u001b[32m    919\u001b[39m \u001b[43m                \u001b[49m\u001b[33;43m\"\u001b[39;49m\u001b[33;43mmodel\u001b[39;49m\u001b[33;43m\"\u001b[39;49m\u001b[43m:\u001b[49m\u001b[43m \u001b[49m\u001b[43mmodel\u001b[49m\u001b[43m,\u001b[49m\n\u001b[32m    920\u001b[39m \u001b[43m                \u001b[49m\u001b[33;43m\"\u001b[39;49m\u001b[33;43maudio\u001b[39;49m\u001b[33;43m\"\u001b[39;49m\u001b[43m:\u001b[49m\u001b[43m \u001b[49m\u001b[43maudio\u001b[49m\u001b[43m,\u001b[49m\n\u001b[32m    921\u001b[39m \u001b[43m                \u001b[49m\u001b[33;43m\"\u001b[39;49m\u001b[33;43mfrequency_penalty\u001b[39;49m\u001b[33;43m\"\u001b[39;49m\u001b[43m:\u001b[49m\u001b[43m \u001b[49m\u001b[43mfrequency_penalty\u001b[49m\u001b[43m,\u001b[49m\n\u001b[32m    922\u001b[39m \u001b[43m                \u001b[49m\u001b[33;43m\"\u001b[39;49m\u001b[33;43mfunction_call\u001b[39;49m\u001b[33;43m\"\u001b[39;49m\u001b[43m:\u001b[49m\u001b[43m \u001b[49m\u001b[43mfunction_call\u001b[49m\u001b[43m,\u001b[49m\n\u001b[32m    923\u001b[39m \u001b[43m                \u001b[49m\u001b[33;43m\"\u001b[39;49m\u001b[33;43mfunctions\u001b[39;49m\u001b[33;43m\"\u001b[39;49m\u001b[43m:\u001b[49m\u001b[43m \u001b[49m\u001b[43mfunctions\u001b[49m\u001b[43m,\u001b[49m\n\u001b[32m    924\u001b[39m \u001b[43m                \u001b[49m\u001b[33;43m\"\u001b[39;49m\u001b[33;43mlogit_bias\u001b[39;49m\u001b[33;43m\"\u001b[39;49m\u001b[43m:\u001b[49m\u001b[43m \u001b[49m\u001b[43mlogit_bias\u001b[49m\u001b[43m,\u001b[49m\n\u001b[32m    925\u001b[39m \u001b[43m                \u001b[49m\u001b[33;43m\"\u001b[39;49m\u001b[33;43mlogprobs\u001b[39;49m\u001b[33;43m\"\u001b[39;49m\u001b[43m:\u001b[49m\u001b[43m \u001b[49m\u001b[43mlogprobs\u001b[49m\u001b[43m,\u001b[49m\n\u001b[32m    926\u001b[39m \u001b[43m                \u001b[49m\u001b[33;43m\"\u001b[39;49m\u001b[33;43mmax_completion_tokens\u001b[39;49m\u001b[33;43m\"\u001b[39;49m\u001b[43m:\u001b[49m\u001b[43m \u001b[49m\u001b[43mmax_completion_tokens\u001b[49m\u001b[43m,\u001b[49m\n\u001b[32m    927\u001b[39m \u001b[43m                \u001b[49m\u001b[33;43m\"\u001b[39;49m\u001b[33;43mmax_tokens\u001b[39;49m\u001b[33;43m\"\u001b[39;49m\u001b[43m:\u001b[49m\u001b[43m \u001b[49m\u001b[43mmax_tokens\u001b[49m\u001b[43m,\u001b[49m\n\u001b[32m    928\u001b[39m \u001b[43m                \u001b[49m\u001b[33;43m\"\u001b[39;49m\u001b[33;43mmetadata\u001b[39;49m\u001b[33;43m\"\u001b[39;49m\u001b[43m:\u001b[49m\u001b[43m \u001b[49m\u001b[43mmetadata\u001b[49m\u001b[43m,\u001b[49m\n\u001b[32m    929\u001b[39m \u001b[43m                \u001b[49m\u001b[33;43m\"\u001b[39;49m\u001b[33;43mmodalities\u001b[39;49m\u001b[33;43m\"\u001b[39;49m\u001b[43m:\u001b[49m\u001b[43m \u001b[49m\u001b[43mmodalities\u001b[49m\u001b[43m,\u001b[49m\n\u001b[32m    930\u001b[39m \u001b[43m                \u001b[49m\u001b[33;43m\"\u001b[39;49m\u001b[33;43mn\u001b[39;49m\u001b[33;43m\"\u001b[39;49m\u001b[43m:\u001b[49m\u001b[43m \u001b[49m\u001b[43mn\u001b[49m\u001b[43m,\u001b[49m\n\u001b[32m    931\u001b[39m \u001b[43m                \u001b[49m\u001b[33;43m\"\u001b[39;49m\u001b[33;43mparallel_tool_calls\u001b[39;49m\u001b[33;43m\"\u001b[39;49m\u001b[43m:\u001b[49m\u001b[43m \u001b[49m\u001b[43mparallel_tool_calls\u001b[49m\u001b[43m,\u001b[49m\n\u001b[32m    932\u001b[39m \u001b[43m                \u001b[49m\u001b[33;43m\"\u001b[39;49m\u001b[33;43mprediction\u001b[39;49m\u001b[33;43m\"\u001b[39;49m\u001b[43m:\u001b[49m\u001b[43m \u001b[49m\u001b[43mprediction\u001b[49m\u001b[43m,\u001b[49m\n\u001b[32m    933\u001b[39m \u001b[43m                \u001b[49m\u001b[33;43m\"\u001b[39;49m\u001b[33;43mpresence_penalty\u001b[39;49m\u001b[33;43m\"\u001b[39;49m\u001b[43m:\u001b[49m\u001b[43m \u001b[49m\u001b[43mpresence_penalty\u001b[49m\u001b[43m,\u001b[49m\n\u001b[32m    934\u001b[39m \u001b[43m                \u001b[49m\u001b[33;43m\"\u001b[39;49m\u001b[33;43mreasoning_effort\u001b[39;49m\u001b[33;43m\"\u001b[39;49m\u001b[43m:\u001b[49m\u001b[43m \u001b[49m\u001b[43mreasoning_effort\u001b[49m\u001b[43m,\u001b[49m\n\u001b[32m    935\u001b[39m \u001b[43m                \u001b[49m\u001b[33;43m\"\u001b[39;49m\u001b[33;43mresponse_format\u001b[39;49m\u001b[33;43m\"\u001b[39;49m\u001b[43m:\u001b[49m\u001b[43m \u001b[49m\u001b[43mresponse_format\u001b[49m\u001b[43m,\u001b[49m\n\u001b[32m    936\u001b[39m \u001b[43m                \u001b[49m\u001b[33;43m\"\u001b[39;49m\u001b[33;43mseed\u001b[39;49m\u001b[33;43m\"\u001b[39;49m\u001b[43m:\u001b[49m\u001b[43m \u001b[49m\u001b[43mseed\u001b[49m\u001b[43m,\u001b[49m\n\u001b[32m    937\u001b[39m \u001b[43m                \u001b[49m\u001b[33;43m\"\u001b[39;49m\u001b[33;43mservice_tier\u001b[39;49m\u001b[33;43m\"\u001b[39;49m\u001b[43m:\u001b[49m\u001b[43m \u001b[49m\u001b[43mservice_tier\u001b[49m\u001b[43m,\u001b[49m\n\u001b[32m    938\u001b[39m \u001b[43m                \u001b[49m\u001b[33;43m\"\u001b[39;49m\u001b[33;43mstop\u001b[39;49m\u001b[33;43m\"\u001b[39;49m\u001b[43m:\u001b[49m\u001b[43m \u001b[49m\u001b[43mstop\u001b[49m\u001b[43m,\u001b[49m\n\u001b[32m    939\u001b[39m \u001b[43m                \u001b[49m\u001b[33;43m\"\u001b[39;49m\u001b[33;43mstore\u001b[39;49m\u001b[33;43m\"\u001b[39;49m\u001b[43m:\u001b[49m\u001b[43m \u001b[49m\u001b[43mstore\u001b[49m\u001b[43m,\u001b[49m\n\u001b[32m    940\u001b[39m \u001b[43m                \u001b[49m\u001b[33;43m\"\u001b[39;49m\u001b[33;43mstream\u001b[39;49m\u001b[33;43m\"\u001b[39;49m\u001b[43m:\u001b[49m\u001b[43m \u001b[49m\u001b[43mstream\u001b[49m\u001b[43m,\u001b[49m\n\u001b[32m    941\u001b[39m \u001b[43m                \u001b[49m\u001b[33;43m\"\u001b[39;49m\u001b[33;43mstream_options\u001b[39;49m\u001b[33;43m\"\u001b[39;49m\u001b[43m:\u001b[49m\u001b[43m \u001b[49m\u001b[43mstream_options\u001b[49m\u001b[43m,\u001b[49m\n\u001b[32m    942\u001b[39m \u001b[43m                \u001b[49m\u001b[33;43m\"\u001b[39;49m\u001b[33;43mtemperature\u001b[39;49m\u001b[33;43m\"\u001b[39;49m\u001b[43m:\u001b[49m\u001b[43m \u001b[49m\u001b[43mtemperature\u001b[49m\u001b[43m,\u001b[49m\n\u001b[32m    943\u001b[39m \u001b[43m                \u001b[49m\u001b[33;43m\"\u001b[39;49m\u001b[33;43mtool_choice\u001b[39;49m\u001b[33;43m\"\u001b[39;49m\u001b[43m:\u001b[49m\u001b[43m \u001b[49m\u001b[43mtool_choice\u001b[49m\u001b[43m,\u001b[49m\n\u001b[32m    944\u001b[39m \u001b[43m                \u001b[49m\u001b[33;43m\"\u001b[39;49m\u001b[33;43mtools\u001b[39;49m\u001b[33;43m\"\u001b[39;49m\u001b[43m:\u001b[49m\u001b[43m \u001b[49m\u001b[43mtools\u001b[49m\u001b[43m,\u001b[49m\n\u001b[32m    945\u001b[39m \u001b[43m                \u001b[49m\u001b[33;43m\"\u001b[39;49m\u001b[33;43mtop_logprobs\u001b[39;49m\u001b[33;43m\"\u001b[39;49m\u001b[43m:\u001b[49m\u001b[43m \u001b[49m\u001b[43mtop_logprobs\u001b[49m\u001b[43m,\u001b[49m\n\u001b[32m    946\u001b[39m \u001b[43m                \u001b[49m\u001b[33;43m\"\u001b[39;49m\u001b[33;43mtop_p\u001b[39;49m\u001b[33;43m\"\u001b[39;49m\u001b[43m:\u001b[49m\u001b[43m \u001b[49m\u001b[43mtop_p\u001b[49m\u001b[43m,\u001b[49m\n\u001b[32m    947\u001b[39m \u001b[43m                \u001b[49m\u001b[33;43m\"\u001b[39;49m\u001b[33;43muser\u001b[39;49m\u001b[33;43m\"\u001b[39;49m\u001b[43m:\u001b[49m\u001b[43m \u001b[49m\u001b[43muser\u001b[49m\u001b[43m,\u001b[49m\n\u001b[32m    948\u001b[39m \u001b[43m                \u001b[49m\u001b[33;43m\"\u001b[39;49m\u001b[33;43mweb_search_options\u001b[39;49m\u001b[33;43m\"\u001b[39;49m\u001b[43m:\u001b[49m\u001b[43m \u001b[49m\u001b[43mweb_search_options\u001b[49m\u001b[43m,\u001b[49m\n\u001b[32m    949\u001b[39m \u001b[43m            \u001b[49m\u001b[43m}\u001b[49m\u001b[43m,\u001b[49m\n\u001b[32m    950\u001b[39m \u001b[43m            \u001b[49m\u001b[43mcompletion_create_params\u001b[49m\u001b[43m.\u001b[49m\u001b[43mCompletionCreateParams\u001b[49m\u001b[43m,\u001b[49m\n\u001b[32m    951\u001b[39m \u001b[43m        \u001b[49m\u001b[43m)\u001b[49m\u001b[43m,\u001b[49m\n\u001b[32m    952\u001b[39m \u001b[43m        \u001b[49m\u001b[43moptions\u001b[49m\u001b[43m=\u001b[49m\u001b[43mmake_request_options\u001b[49m\u001b[43m(\u001b[49m\n\u001b[32m    953\u001b[39m \u001b[43m            \u001b[49m\u001b[43mextra_headers\u001b[49m\u001b[43m=\u001b[49m\u001b[43mextra_headers\u001b[49m\u001b[43m,\u001b[49m\u001b[43m \u001b[49m\u001b[43mextra_query\u001b[49m\u001b[43m=\u001b[49m\u001b[43mextra_query\u001b[49m\u001b[43m,\u001b[49m\u001b[43m \u001b[49m\u001b[43mextra_body\u001b[49m\u001b[43m=\u001b[49m\u001b[43mextra_body\u001b[49m\u001b[43m,\u001b[49m\u001b[43m \u001b[49m\u001b[43mtimeout\u001b[49m\u001b[43m=\u001b[49m\u001b[43mtimeout\u001b[49m\n\u001b[32m    954\u001b[39m \u001b[43m        \u001b[49m\u001b[43m)\u001b[49m\u001b[43m,\u001b[49m\n\u001b[32m    955\u001b[39m \u001b[43m        \u001b[49m\u001b[43mcast_to\u001b[49m\u001b[43m=\u001b[49m\u001b[43mChatCompletion\u001b[49m\u001b[43m,\u001b[49m\n\u001b[32m    956\u001b[39m \u001b[43m        \u001b[49m\u001b[43mstream\u001b[49m\u001b[43m=\u001b[49m\u001b[43mstream\u001b[49m\u001b[43m \u001b[49m\u001b[38;5;129;43;01mor\u001b[39;49;00m\u001b[43m \u001b[49m\u001b[38;5;28;43;01mFalse\u001b[39;49;00m\u001b[43m,\u001b[49m\n\u001b[32m    957\u001b[39m \u001b[43m        \u001b[49m\u001b[43mstream_cls\u001b[49m\u001b[43m=\u001b[49m\u001b[43mStream\u001b[49m\u001b[43m[\u001b[49m\u001b[43mChatCompletionChunk\u001b[49m\u001b[43m]\u001b[49m\u001b[43m,\u001b[49m\n\u001b[32m    958\u001b[39m \u001b[43m    \u001b[49m\u001b[43m)\u001b[49m\n",
      "\u001b[36mFile \u001b[39m\u001b[32m~/ENTER/envs/myenv/lib/python3.13/site-packages/openai/_base_client.py:1242\u001b[39m, in \u001b[36mSyncAPIClient.post\u001b[39m\u001b[34m(self, path, cast_to, body, options, files, stream, stream_cls)\u001b[39m\n\u001b[32m   1228\u001b[39m \u001b[38;5;28;01mdef\u001b[39;00m\u001b[38;5;250m \u001b[39m\u001b[34mpost\u001b[39m(\n\u001b[32m   1229\u001b[39m     \u001b[38;5;28mself\u001b[39m,\n\u001b[32m   1230\u001b[39m     path: \u001b[38;5;28mstr\u001b[39m,\n\u001b[32m   (...)\u001b[39m\u001b[32m   1237\u001b[39m     stream_cls: \u001b[38;5;28mtype\u001b[39m[_StreamT] | \u001b[38;5;28;01mNone\u001b[39;00m = \u001b[38;5;28;01mNone\u001b[39;00m,\n\u001b[32m   1238\u001b[39m ) -> ResponseT | _StreamT:\n\u001b[32m   1239\u001b[39m     opts = FinalRequestOptions.construct(\n\u001b[32m   1240\u001b[39m         method=\u001b[33m\"\u001b[39m\u001b[33mpost\u001b[39m\u001b[33m\"\u001b[39m, url=path, json_data=body, files=to_httpx_files(files), **options\n\u001b[32m   1241\u001b[39m     )\n\u001b[32m-> \u001b[39m\u001b[32m1242\u001b[39m     \u001b[38;5;28;01mreturn\u001b[39;00m cast(ResponseT, \u001b[38;5;28;43mself\u001b[39;49m\u001b[43m.\u001b[49m\u001b[43mrequest\u001b[49m\u001b[43m(\u001b[49m\u001b[43mcast_to\u001b[49m\u001b[43m,\u001b[49m\u001b[43m \u001b[49m\u001b[43mopts\u001b[49m\u001b[43m,\u001b[49m\u001b[43m \u001b[49m\u001b[43mstream\u001b[49m\u001b[43m=\u001b[49m\u001b[43mstream\u001b[49m\u001b[43m,\u001b[49m\u001b[43m \u001b[49m\u001b[43mstream_cls\u001b[49m\u001b[43m=\u001b[49m\u001b[43mstream_cls\u001b[49m\u001b[43m)\u001b[49m)\n",
      "\u001b[36mFile \u001b[39m\u001b[32m~/ENTER/envs/myenv/lib/python3.13/site-packages/openai/_base_client.py:919\u001b[39m, in \u001b[36mSyncAPIClient.request\u001b[39m\u001b[34m(self, cast_to, options, remaining_retries, stream, stream_cls)\u001b[39m\n\u001b[32m    916\u001b[39m \u001b[38;5;28;01melse\u001b[39;00m:\n\u001b[32m    917\u001b[39m     retries_taken = \u001b[32m0\u001b[39m\n\u001b[32m--> \u001b[39m\u001b[32m919\u001b[39m \u001b[38;5;28;01mreturn\u001b[39;00m \u001b[38;5;28;43mself\u001b[39;49m\u001b[43m.\u001b[49m\u001b[43m_request\u001b[49m\u001b[43m(\u001b[49m\n\u001b[32m    920\u001b[39m \u001b[43m    \u001b[49m\u001b[43mcast_to\u001b[49m\u001b[43m=\u001b[49m\u001b[43mcast_to\u001b[49m\u001b[43m,\u001b[49m\n\u001b[32m    921\u001b[39m \u001b[43m    \u001b[49m\u001b[43moptions\u001b[49m\u001b[43m=\u001b[49m\u001b[43moptions\u001b[49m\u001b[43m,\u001b[49m\n\u001b[32m    922\u001b[39m \u001b[43m    \u001b[49m\u001b[43mstream\u001b[49m\u001b[43m=\u001b[49m\u001b[43mstream\u001b[49m\u001b[43m,\u001b[49m\n\u001b[32m    923\u001b[39m \u001b[43m    \u001b[49m\u001b[43mstream_cls\u001b[49m\u001b[43m=\u001b[49m\u001b[43mstream_cls\u001b[49m\u001b[43m,\u001b[49m\n\u001b[32m    924\u001b[39m \u001b[43m    \u001b[49m\u001b[43mretries_taken\u001b[49m\u001b[43m=\u001b[49m\u001b[43mretries_taken\u001b[49m\u001b[43m,\u001b[49m\n\u001b[32m    925\u001b[39m \u001b[43m\u001b[49m\u001b[43m)\u001b[49m\n",
      "\u001b[36mFile \u001b[39m\u001b[32m~/ENTER/envs/myenv/lib/python3.13/site-packages/openai/_base_client.py:955\u001b[39m, in \u001b[36mSyncAPIClient._request\u001b[39m\u001b[34m(self, cast_to, options, retries_taken, stream, stream_cls)\u001b[39m\n\u001b[32m    952\u001b[39m log.debug(\u001b[33m\"\u001b[39m\u001b[33mSending HTTP Request: \u001b[39m\u001b[38;5;132;01m%s\u001b[39;00m\u001b[33m \u001b[39m\u001b[38;5;132;01m%s\u001b[39;00m\u001b[33m\"\u001b[39m, request.method, request.url)\n\u001b[32m    954\u001b[39m \u001b[38;5;28;01mtry\u001b[39;00m:\n\u001b[32m--> \u001b[39m\u001b[32m955\u001b[39m     response = \u001b[38;5;28;43mself\u001b[39;49m\u001b[43m.\u001b[49m\u001b[43m_client\u001b[49m\u001b[43m.\u001b[49m\u001b[43msend\u001b[49m\u001b[43m(\u001b[49m\n\u001b[32m    956\u001b[39m \u001b[43m        \u001b[49m\u001b[43mrequest\u001b[49m\u001b[43m,\u001b[49m\n\u001b[32m    957\u001b[39m \u001b[43m        \u001b[49m\u001b[43mstream\u001b[49m\u001b[43m=\u001b[49m\u001b[43mstream\u001b[49m\u001b[43m \u001b[49m\u001b[38;5;129;43;01mor\u001b[39;49;00m\u001b[43m \u001b[49m\u001b[38;5;28;43mself\u001b[39;49m\u001b[43m.\u001b[49m\u001b[43m_should_stream_response_body\u001b[49m\u001b[43m(\u001b[49m\u001b[43mrequest\u001b[49m\u001b[43m=\u001b[49m\u001b[43mrequest\u001b[49m\u001b[43m)\u001b[49m\u001b[43m,\u001b[49m\n\u001b[32m    958\u001b[39m \u001b[43m        \u001b[49m\u001b[43m*\u001b[49m\u001b[43m*\u001b[49m\u001b[43mkwargs\u001b[49m\u001b[43m,\u001b[49m\n\u001b[32m    959\u001b[39m \u001b[43m    \u001b[49m\u001b[43m)\u001b[49m\n\u001b[32m    960\u001b[39m \u001b[38;5;28;01mexcept\u001b[39;00m httpx.TimeoutException \u001b[38;5;28;01mas\u001b[39;00m err:\n\u001b[32m    961\u001b[39m     log.debug(\u001b[33m\"\u001b[39m\u001b[33mEncountered httpx.TimeoutException\u001b[39m\u001b[33m\"\u001b[39m, exc_info=\u001b[38;5;28;01mTrue\u001b[39;00m)\n",
      "\u001b[36mFile \u001b[39m\u001b[32m~/ENTER/envs/myenv/lib/python3.13/site-packages/httpx/_client.py:914\u001b[39m, in \u001b[36mClient.send\u001b[39m\u001b[34m(self, request, stream, auth, follow_redirects)\u001b[39m\n\u001b[32m    910\u001b[39m \u001b[38;5;28mself\u001b[39m._set_timeout(request)\n\u001b[32m    912\u001b[39m auth = \u001b[38;5;28mself\u001b[39m._build_request_auth(request, auth)\n\u001b[32m--> \u001b[39m\u001b[32m914\u001b[39m response = \u001b[38;5;28;43mself\u001b[39;49m\u001b[43m.\u001b[49m\u001b[43m_send_handling_auth\u001b[49m\u001b[43m(\u001b[49m\n\u001b[32m    915\u001b[39m \u001b[43m    \u001b[49m\u001b[43mrequest\u001b[49m\u001b[43m,\u001b[49m\n\u001b[32m    916\u001b[39m \u001b[43m    \u001b[49m\u001b[43mauth\u001b[49m\u001b[43m=\u001b[49m\u001b[43mauth\u001b[49m\u001b[43m,\u001b[49m\n\u001b[32m    917\u001b[39m \u001b[43m    \u001b[49m\u001b[43mfollow_redirects\u001b[49m\u001b[43m=\u001b[49m\u001b[43mfollow_redirects\u001b[49m\u001b[43m,\u001b[49m\n\u001b[32m    918\u001b[39m \u001b[43m    \u001b[49m\u001b[43mhistory\u001b[49m\u001b[43m=\u001b[49m\u001b[43m[\u001b[49m\u001b[43m]\u001b[49m\u001b[43m,\u001b[49m\n\u001b[32m    919\u001b[39m \u001b[43m\u001b[49m\u001b[43m)\u001b[49m\n\u001b[32m    920\u001b[39m \u001b[38;5;28;01mtry\u001b[39;00m:\n\u001b[32m    921\u001b[39m     \u001b[38;5;28;01mif\u001b[39;00m \u001b[38;5;129;01mnot\u001b[39;00m stream:\n",
      "\u001b[36mFile \u001b[39m\u001b[32m~/ENTER/envs/myenv/lib/python3.13/site-packages/httpx/_client.py:942\u001b[39m, in \u001b[36mClient._send_handling_auth\u001b[39m\u001b[34m(self, request, auth, follow_redirects, history)\u001b[39m\n\u001b[32m    939\u001b[39m request = \u001b[38;5;28mnext\u001b[39m(auth_flow)\n\u001b[32m    941\u001b[39m \u001b[38;5;28;01mwhile\u001b[39;00m \u001b[38;5;28;01mTrue\u001b[39;00m:\n\u001b[32m--> \u001b[39m\u001b[32m942\u001b[39m     response = \u001b[38;5;28;43mself\u001b[39;49m\u001b[43m.\u001b[49m\u001b[43m_send_handling_redirects\u001b[49m\u001b[43m(\u001b[49m\n\u001b[32m    943\u001b[39m \u001b[43m        \u001b[49m\u001b[43mrequest\u001b[49m\u001b[43m,\u001b[49m\n\u001b[32m    944\u001b[39m \u001b[43m        \u001b[49m\u001b[43mfollow_redirects\u001b[49m\u001b[43m=\u001b[49m\u001b[43mfollow_redirects\u001b[49m\u001b[43m,\u001b[49m\n\u001b[32m    945\u001b[39m \u001b[43m        \u001b[49m\u001b[43mhistory\u001b[49m\u001b[43m=\u001b[49m\u001b[43mhistory\u001b[49m\u001b[43m,\u001b[49m\n\u001b[32m    946\u001b[39m \u001b[43m    \u001b[49m\u001b[43m)\u001b[49m\n\u001b[32m    947\u001b[39m     \u001b[38;5;28;01mtry\u001b[39;00m:\n\u001b[32m    948\u001b[39m         \u001b[38;5;28;01mtry\u001b[39;00m:\n",
      "\u001b[36mFile \u001b[39m\u001b[32m~/ENTER/envs/myenv/lib/python3.13/site-packages/httpx/_client.py:979\u001b[39m, in \u001b[36mClient._send_handling_redirects\u001b[39m\u001b[34m(self, request, follow_redirects, history)\u001b[39m\n\u001b[32m    976\u001b[39m \u001b[38;5;28;01mfor\u001b[39;00m hook \u001b[38;5;129;01min\u001b[39;00m \u001b[38;5;28mself\u001b[39m._event_hooks[\u001b[33m\"\u001b[39m\u001b[33mrequest\u001b[39m\u001b[33m\"\u001b[39m]:\n\u001b[32m    977\u001b[39m     hook(request)\n\u001b[32m--> \u001b[39m\u001b[32m979\u001b[39m response = \u001b[38;5;28;43mself\u001b[39;49m\u001b[43m.\u001b[49m\u001b[43m_send_single_request\u001b[49m\u001b[43m(\u001b[49m\u001b[43mrequest\u001b[49m\u001b[43m)\u001b[49m\n\u001b[32m    980\u001b[39m \u001b[38;5;28;01mtry\u001b[39;00m:\n\u001b[32m    981\u001b[39m     \u001b[38;5;28;01mfor\u001b[39;00m hook \u001b[38;5;129;01min\u001b[39;00m \u001b[38;5;28mself\u001b[39m._event_hooks[\u001b[33m\"\u001b[39m\u001b[33mresponse\u001b[39m\u001b[33m\"\u001b[39m]:\n",
      "\u001b[36mFile \u001b[39m\u001b[32m~/ENTER/envs/myenv/lib/python3.13/site-packages/httpx/_client.py:1014\u001b[39m, in \u001b[36mClient._send_single_request\u001b[39m\u001b[34m(self, request)\u001b[39m\n\u001b[32m   1009\u001b[39m     \u001b[38;5;28;01mraise\u001b[39;00m \u001b[38;5;167;01mRuntimeError\u001b[39;00m(\n\u001b[32m   1010\u001b[39m         \u001b[33m\"\u001b[39m\u001b[33mAttempted to send an async request with a sync Client instance.\u001b[39m\u001b[33m\"\u001b[39m\n\u001b[32m   1011\u001b[39m     )\n\u001b[32m   1013\u001b[39m \u001b[38;5;28;01mwith\u001b[39;00m request_context(request=request):\n\u001b[32m-> \u001b[39m\u001b[32m1014\u001b[39m     response = \u001b[43mtransport\u001b[49m\u001b[43m.\u001b[49m\u001b[43mhandle_request\u001b[49m\u001b[43m(\u001b[49m\u001b[43mrequest\u001b[49m\u001b[43m)\u001b[49m\n\u001b[32m   1016\u001b[39m \u001b[38;5;28;01massert\u001b[39;00m \u001b[38;5;28misinstance\u001b[39m(response.stream, SyncByteStream)\n\u001b[32m   1018\u001b[39m response.request = request\n",
      "\u001b[36mFile \u001b[39m\u001b[32m~/ENTER/envs/myenv/lib/python3.13/site-packages/httpx/_transports/default.py:250\u001b[39m, in \u001b[36mHTTPTransport.handle_request\u001b[39m\u001b[34m(self, request)\u001b[39m\n\u001b[32m    237\u001b[39m req = httpcore.Request(\n\u001b[32m    238\u001b[39m     method=request.method,\n\u001b[32m    239\u001b[39m     url=httpcore.URL(\n\u001b[32m   (...)\u001b[39m\u001b[32m    247\u001b[39m     extensions=request.extensions,\n\u001b[32m    248\u001b[39m )\n\u001b[32m    249\u001b[39m \u001b[38;5;28;01mwith\u001b[39;00m map_httpcore_exceptions():\n\u001b[32m--> \u001b[39m\u001b[32m250\u001b[39m     resp = \u001b[38;5;28;43mself\u001b[39;49m\u001b[43m.\u001b[49m\u001b[43m_pool\u001b[49m\u001b[43m.\u001b[49m\u001b[43mhandle_request\u001b[49m\u001b[43m(\u001b[49m\u001b[43mreq\u001b[49m\u001b[43m)\u001b[49m\n\u001b[32m    252\u001b[39m \u001b[38;5;28;01massert\u001b[39;00m \u001b[38;5;28misinstance\u001b[39m(resp.stream, typing.Iterable)\n\u001b[32m    254\u001b[39m \u001b[38;5;28;01mreturn\u001b[39;00m Response(\n\u001b[32m    255\u001b[39m     status_code=resp.status,\n\u001b[32m    256\u001b[39m     headers=resp.headers,\n\u001b[32m    257\u001b[39m     stream=ResponseStream(resp.stream),\n\u001b[32m    258\u001b[39m     extensions=resp.extensions,\n\u001b[32m    259\u001b[39m )\n",
      "\u001b[36mFile \u001b[39m\u001b[32m~/ENTER/envs/myenv/lib/python3.13/site-packages/httpcore/_sync/connection_pool.py:256\u001b[39m, in \u001b[36mConnectionPool.handle_request\u001b[39m\u001b[34m(self, request)\u001b[39m\n\u001b[32m    253\u001b[39m         closing = \u001b[38;5;28mself\u001b[39m._assign_requests_to_connections()\n\u001b[32m    255\u001b[39m     \u001b[38;5;28mself\u001b[39m._close_connections(closing)\n\u001b[32m--> \u001b[39m\u001b[32m256\u001b[39m     \u001b[38;5;28;01mraise\u001b[39;00m exc \u001b[38;5;28;01mfrom\u001b[39;00m\u001b[38;5;250m \u001b[39m\u001b[38;5;28;01mNone\u001b[39;00m\n\u001b[32m    258\u001b[39m \u001b[38;5;66;03m# Return the response. Note that in this case we still have to manage\u001b[39;00m\n\u001b[32m    259\u001b[39m \u001b[38;5;66;03m# the point at which the response is closed.\u001b[39;00m\n\u001b[32m    260\u001b[39m \u001b[38;5;28;01massert\u001b[39;00m \u001b[38;5;28misinstance\u001b[39m(response.stream, typing.Iterable)\n",
      "\u001b[36mFile \u001b[39m\u001b[32m~/ENTER/envs/myenv/lib/python3.13/site-packages/httpcore/_sync/connection_pool.py:236\u001b[39m, in \u001b[36mConnectionPool.handle_request\u001b[39m\u001b[34m(self, request)\u001b[39m\n\u001b[32m    232\u001b[39m connection = pool_request.wait_for_connection(timeout=timeout)\n\u001b[32m    234\u001b[39m \u001b[38;5;28;01mtry\u001b[39;00m:\n\u001b[32m    235\u001b[39m     \u001b[38;5;66;03m# Send the request on the assigned connection.\u001b[39;00m\n\u001b[32m--> \u001b[39m\u001b[32m236\u001b[39m     response = \u001b[43mconnection\u001b[49m\u001b[43m.\u001b[49m\u001b[43mhandle_request\u001b[49m\u001b[43m(\u001b[49m\n\u001b[32m    237\u001b[39m \u001b[43m        \u001b[49m\u001b[43mpool_request\u001b[49m\u001b[43m.\u001b[49m\u001b[43mrequest\u001b[49m\n\u001b[32m    238\u001b[39m \u001b[43m    \u001b[49m\u001b[43m)\u001b[49m\n\u001b[32m    239\u001b[39m \u001b[38;5;28;01mexcept\u001b[39;00m ConnectionNotAvailable:\n\u001b[32m    240\u001b[39m     \u001b[38;5;66;03m# In some cases a connection may initially be available to\u001b[39;00m\n\u001b[32m    241\u001b[39m     \u001b[38;5;66;03m# handle a request, but then become unavailable.\u001b[39;00m\n\u001b[32m    242\u001b[39m     \u001b[38;5;66;03m#\u001b[39;00m\n\u001b[32m    243\u001b[39m     \u001b[38;5;66;03m# In this case we clear the connection and try again.\u001b[39;00m\n\u001b[32m    244\u001b[39m     pool_request.clear_connection()\n",
      "\u001b[36mFile \u001b[39m\u001b[32m~/ENTER/envs/myenv/lib/python3.13/site-packages/httpcore/_sync/connection.py:103\u001b[39m, in \u001b[36mHTTPConnection.handle_request\u001b[39m\u001b[34m(self, request)\u001b[39m\n\u001b[32m    100\u001b[39m     \u001b[38;5;28mself\u001b[39m._connect_failed = \u001b[38;5;28;01mTrue\u001b[39;00m\n\u001b[32m    101\u001b[39m     \u001b[38;5;28;01mraise\u001b[39;00m exc\n\u001b[32m--> \u001b[39m\u001b[32m103\u001b[39m \u001b[38;5;28;01mreturn\u001b[39;00m \u001b[38;5;28;43mself\u001b[39;49m\u001b[43m.\u001b[49m\u001b[43m_connection\u001b[49m\u001b[43m.\u001b[49m\u001b[43mhandle_request\u001b[49m\u001b[43m(\u001b[49m\u001b[43mrequest\u001b[49m\u001b[43m)\u001b[49m\n",
      "\u001b[36mFile \u001b[39m\u001b[32m~/ENTER/envs/myenv/lib/python3.13/site-packages/httpcore/_sync/http11.py:136\u001b[39m, in \u001b[36mHTTP11Connection.handle_request\u001b[39m\u001b[34m(self, request)\u001b[39m\n\u001b[32m    134\u001b[39m     \u001b[38;5;28;01mwith\u001b[39;00m Trace(\u001b[33m\"\u001b[39m\u001b[33mresponse_closed\u001b[39m\u001b[33m\"\u001b[39m, logger, request) \u001b[38;5;28;01mas\u001b[39;00m trace:\n\u001b[32m    135\u001b[39m         \u001b[38;5;28mself\u001b[39m._response_closed()\n\u001b[32m--> \u001b[39m\u001b[32m136\u001b[39m \u001b[38;5;28;01mraise\u001b[39;00m exc\n",
      "\u001b[36mFile \u001b[39m\u001b[32m~/ENTER/envs/myenv/lib/python3.13/site-packages/httpcore/_sync/http11.py:106\u001b[39m, in \u001b[36mHTTP11Connection.handle_request\u001b[39m\u001b[34m(self, request)\u001b[39m\n\u001b[32m     95\u001b[39m     \u001b[38;5;28;01mpass\u001b[39;00m\n\u001b[32m     97\u001b[39m \u001b[38;5;28;01mwith\u001b[39;00m Trace(\n\u001b[32m     98\u001b[39m     \u001b[33m\"\u001b[39m\u001b[33mreceive_response_headers\u001b[39m\u001b[33m\"\u001b[39m, logger, request, kwargs\n\u001b[32m     99\u001b[39m ) \u001b[38;5;28;01mas\u001b[39;00m trace:\n\u001b[32m    100\u001b[39m     (\n\u001b[32m    101\u001b[39m         http_version,\n\u001b[32m    102\u001b[39m         status,\n\u001b[32m    103\u001b[39m         reason_phrase,\n\u001b[32m    104\u001b[39m         headers,\n\u001b[32m    105\u001b[39m         trailing_data,\n\u001b[32m--> \u001b[39m\u001b[32m106\u001b[39m     ) = \u001b[38;5;28;43mself\u001b[39;49m\u001b[43m.\u001b[49m\u001b[43m_receive_response_headers\u001b[49m\u001b[43m(\u001b[49m\u001b[43m*\u001b[49m\u001b[43m*\u001b[49m\u001b[43mkwargs\u001b[49m\u001b[43m)\u001b[49m\n\u001b[32m    107\u001b[39m     trace.return_value = (\n\u001b[32m    108\u001b[39m         http_version,\n\u001b[32m    109\u001b[39m         status,\n\u001b[32m    110\u001b[39m         reason_phrase,\n\u001b[32m    111\u001b[39m         headers,\n\u001b[32m    112\u001b[39m     )\n\u001b[32m    114\u001b[39m network_stream = \u001b[38;5;28mself\u001b[39m._network_stream\n",
      "\u001b[36mFile \u001b[39m\u001b[32m~/ENTER/envs/myenv/lib/python3.13/site-packages/httpcore/_sync/http11.py:177\u001b[39m, in \u001b[36mHTTP11Connection._receive_response_headers\u001b[39m\u001b[34m(self, request)\u001b[39m\n\u001b[32m    174\u001b[39m timeout = timeouts.get(\u001b[33m\"\u001b[39m\u001b[33mread\u001b[39m\u001b[33m\"\u001b[39m, \u001b[38;5;28;01mNone\u001b[39;00m)\n\u001b[32m    176\u001b[39m \u001b[38;5;28;01mwhile\u001b[39;00m \u001b[38;5;28;01mTrue\u001b[39;00m:\n\u001b[32m--> \u001b[39m\u001b[32m177\u001b[39m     event = \u001b[38;5;28;43mself\u001b[39;49m\u001b[43m.\u001b[49m\u001b[43m_receive_event\u001b[49m\u001b[43m(\u001b[49m\u001b[43mtimeout\u001b[49m\u001b[43m=\u001b[49m\u001b[43mtimeout\u001b[49m\u001b[43m)\u001b[49m\n\u001b[32m    178\u001b[39m     \u001b[38;5;28;01mif\u001b[39;00m \u001b[38;5;28misinstance\u001b[39m(event, h11.Response):\n\u001b[32m    179\u001b[39m         \u001b[38;5;28;01mbreak\u001b[39;00m\n",
      "\u001b[36mFile \u001b[39m\u001b[32m~/ENTER/envs/myenv/lib/python3.13/site-packages/httpcore/_sync/http11.py:217\u001b[39m, in \u001b[36mHTTP11Connection._receive_event\u001b[39m\u001b[34m(self, timeout)\u001b[39m\n\u001b[32m    214\u001b[39m     event = \u001b[38;5;28mself\u001b[39m._h11_state.next_event()\n\u001b[32m    216\u001b[39m \u001b[38;5;28;01mif\u001b[39;00m event \u001b[38;5;129;01mis\u001b[39;00m h11.NEED_DATA:\n\u001b[32m--> \u001b[39m\u001b[32m217\u001b[39m     data = \u001b[38;5;28;43mself\u001b[39;49m\u001b[43m.\u001b[49m\u001b[43m_network_stream\u001b[49m\u001b[43m.\u001b[49m\u001b[43mread\u001b[49m\u001b[43m(\u001b[49m\n\u001b[32m    218\u001b[39m \u001b[43m        \u001b[49m\u001b[38;5;28;43mself\u001b[39;49m\u001b[43m.\u001b[49m\u001b[43mREAD_NUM_BYTES\u001b[49m\u001b[43m,\u001b[49m\u001b[43m \u001b[49m\u001b[43mtimeout\u001b[49m\u001b[43m=\u001b[49m\u001b[43mtimeout\u001b[49m\n\u001b[32m    219\u001b[39m \u001b[43m    \u001b[49m\u001b[43m)\u001b[49m\n\u001b[32m    221\u001b[39m     \u001b[38;5;66;03m# If we feed this case through h11 we'll raise an exception like:\u001b[39;00m\n\u001b[32m    222\u001b[39m     \u001b[38;5;66;03m#\u001b[39;00m\n\u001b[32m    223\u001b[39m     \u001b[38;5;66;03m#     httpcore.RemoteProtocolError: can't handle event type\u001b[39;00m\n\u001b[32m   (...)\u001b[39m\u001b[32m    227\u001b[39m     \u001b[38;5;66;03m# perspective. Instead we handle this case distinctly and treat\u001b[39;00m\n\u001b[32m    228\u001b[39m     \u001b[38;5;66;03m# it as a ConnectError.\u001b[39;00m\n\u001b[32m    229\u001b[39m     \u001b[38;5;28;01mif\u001b[39;00m data == \u001b[33mb\u001b[39m\u001b[33m\"\u001b[39m\u001b[33m\"\u001b[39m \u001b[38;5;129;01mand\u001b[39;00m \u001b[38;5;28mself\u001b[39m._h11_state.their_state == h11.SEND_RESPONSE:\n",
      "\u001b[36mFile \u001b[39m\u001b[32m~/ENTER/envs/myenv/lib/python3.13/site-packages/httpcore/_backends/sync.py:128\u001b[39m, in \u001b[36mSyncStream.read\u001b[39m\u001b[34m(self, max_bytes, timeout)\u001b[39m\n\u001b[32m    126\u001b[39m \u001b[38;5;28;01mwith\u001b[39;00m map_exceptions(exc_map):\n\u001b[32m    127\u001b[39m     \u001b[38;5;28mself\u001b[39m._sock.settimeout(timeout)\n\u001b[32m--> \u001b[39m\u001b[32m128\u001b[39m     \u001b[38;5;28;01mreturn\u001b[39;00m \u001b[38;5;28;43mself\u001b[39;49m\u001b[43m.\u001b[49m\u001b[43m_sock\u001b[49m\u001b[43m.\u001b[49m\u001b[43mrecv\u001b[49m\u001b[43m(\u001b[49m\u001b[43mmax_bytes\u001b[49m\u001b[43m)\u001b[49m\n",
      "\u001b[31mKeyboardInterrupt\u001b[39m: "
     ]
    }
   ],
   "source": [
    "messages_llm = [\n",
    "      {\"role\": \"system\", \"content\": \"You are an expert software engineer that prefers functional programming.\"},\n",
    "      {\"role\": \"user\", \"content\": \"Write a function to swap the keys and values in a dictionary.\"}\n",
    "    ]\n",
    "output = call_llm(messages_llm)\n",
    "print(output.choices[0].message)\n"
   ]
  },
  {
   "cell_type": "code",
   "execution_count": 13,
   "metadata": {},
   "outputs": [
    {
     "name": "stdout",
     "output_type": "stream",
     "text": [
      "Okay, here's a Python function designed with a strong emphasis on functional principles – specifically leveraging dictionaries comprehensions for clarity and immutability.  I’ll also include detailed explanations and considerations as if I were explaining this to a junior engineer or during a design discussion.\n",
      "\n",
      "```python\n",
      "from typing import Dict, Any\n",
      "\n",
      "\n",
      "def swap_dict_key_value(input_dict: Dict[Any, Any]) -> Dict[Any, Any]:\n",
      "    \"\"\"\n",
      "    Swaps the keys and values of a dictionary.  Handles potential value conflicts \n",
      "    by prioritizing the last encountered value for duplicate keys.\n",
      "\n",
      "    Args:\n",
      "        input_dict: The input dictionary to swap.\n",
      "\n",
      "    Returns:\n",
      "        A new dictionary with keys and values swapped.\n",
      "    \n",
      "    Raises:\n",
      "        TypeError: If input is not a dictionary.\n",
      "    \"\"\"\n",
      "    if not isinstance(input_dict, dict):\n",
      "        raise TypeError(\"Input must be a dictionary\")\n",
      "\n",
      "\n",
      "    return {value: key for key, value in input_dict.items()}\n",
      "\n",
      "\n",
      "\n",
      "# Example Usage (for demonstration and testing)\n",
      "if __name__ == '__main__':\n",
      "    my_dict = {\"a\": 1, \"b\": 2, \"c\": 3}\n",
      "    swapped_dict = swap_dict_key_value(my_dict)\n",
      "    print(f\"Original Dictionary: {my_dict}\")  # Output: Original Dictionary: {'a': 1, 'b': 2, 'c': 3}\n",
      "    print(f\"Swapped Dictionary: {swapped_dict}\") # Output: Swapped Dictionary: {1: 'a', 2: 'b', 3: 'c'}\n",
      "\n",
      "    # Demonstrate conflict handling\n",
      "    conflict_dict = {\"a\": 1, \"b\": 2, \"c\": 1}\n",
      "    swapped_conflict = swap_dict_key_value(conflict_dict)\n",
      "    print(f\"Original Dictionary with Conflict: {conflict_dict}\") # Output: Original Dictionary with Conflict: {'a': 1, 'b': 2, 'c': 1}\n",
      "    print(f\"Swapped Dictionary (Conflict): {swapped_conflict}\") # Output: Swapped Dictionary (Conflict): {1: 'c', 2: 'b'}\n",
      "\n",
      "\n",
      "    # Example of error handling. This will raise a TypeError\n",
      "    try:\n",
      "        swap_dict_key_value(\"not a dictionary\")\n",
      "    except TypeError as e:\n",
      "        print(f\"Caught an error: {e}\") #Output: Caught an error: Input must be a dictionary\n",
      "```\n",
      "\n",
      "**Explanation and Design Choices (as if I were explaining this):**\n",
      "\n",
      "1. **Type Hints:** `from typing import Dict, Any` –  I’ve used type hints extensively (`Dict[Any, Any]`) to improve code readability and help catch potential errors early on. This is a cornerstone of functional programming – making the intent clear and leveraging static analysis tools. We specify that keys and values can be of any type ( `Any` ) for maximum flexibility, but you could refine this if you know more about the expected data types.\n",
      "\n",
      "2. **Immutability:** The function *does not* modify the original dictionary.  It creates a brand new dictionary with the swapped key-value pairs. This is crucial in functional programming to avoid unexpected side effects and make code easier to reason about.  Modifying data in place can quickly lead to bugs.\n",
      "\n",
      "3. **Dictionary Comprehension:** `{value: key for key, value in input_dict.items()}` – This is the heart of the solution and embodies a functional approach:\n",
      "   - It's concise and expressive.\n",
      "   - It avoids explicit `for` loops and mutable state (no temporary variables modifying data).\n",
      "   - `input_dict.items()` provides key-value pairs directly from the dictionary.\n",
      "   - The syntax is very readable – it clearly expresses “For each key, value pair in the input dictionary, create a new entry where the original value becomes the key and the original key becomes the value.”\n",
      "\n",
      "4. **Conflict Resolution (Last Encountered Wins):**  If there are duplicate values in the original dictionary, the last value encountered during iteration will become the key in the swapped dictionary. This is a standard behavior for dictionaries in Python and is explicitly documented in the docstring.  It's important to be aware of this; if different conflict resolution strategies were needed (e.g., raising an exception or creating a list of keys for each value), the code would require more complex logic, moving away from the simplicity of functional approaches.\n",
      "\n",
      "5. **Error Handling:** I’ve added `TypeError` handling to ensure that the input is actually a dictionary. This makes the function more robust and predictable.  Raising exceptions clearly signals when something unexpected happens, allowing the calling code to handle the error appropriately.\n",
      "\n",
      "6. **Docstring:** A comprehensive docstring explains the function's purpose, arguments, return value, and any potential issues (like conflict resolution). Good documentation is essential for maintainability and collaboration.\n",
      "\n",
      "7. **Testing (`if __name__ == '__main__':`)** – I’ve included a simple test suite to demonstrate how to use the function and verify that it works as expected, including a case with conflicting values.  Good testing habits are vital in software development.\n",
      "\n",
      "\n",
      "**Why this is \"Functional\":**\n",
      "\n",
      "* **Pure Function:** The `swap_dict_key_value` function has no side effects. It only depends on its input argument and returns a new value based on that input without modifying anything outside of its scope.\n",
      "* **Declarative Style:**  Instead of specifying *how* to swap the keys and values (e.g., using nested loops), it describes *what* we want – a dictionary with swapped key-value pairs.\n",
      "* **Immutability:** Data is treated as immutable, promoting safer and more predictable code.\n",
      "\n",
      "Let me know if you’d like any refinements or alternative approaches!  For example, we could discuss how to handle different types of conflicts, or explore using libraries like `toolz` for even more functional-style operations (although the built-in dictionary comprehension is usually sufficient for this simple task).\n"
     ]
    }
   ],
   "source": [
    "# Assuming completion.choices[0].message contains a 'content' attribute with the text\n",
    "message_content = output.choices[0].message.content\n",
    "\n",
    "# Split the message into lines and print each line\n",
    "for line in message_content.splitlines():\n",
    "    print(line)"
   ]
  },
  {
   "cell_type": "code",
   "execution_count": 14,
   "metadata": {},
   "outputs": [
    {
     "name": "stdout",
     "output_type": "stream",
     "text": [
      "ChatCompletionMessage(content='Okay, let’s get that sorted out for you! The quickest fix for most internet issues is often a simple restart. \\n\\nCould you please turn your computer *and* your modem/router off? Wait about 30 seconds, then turn them both back on. Give it a few minutes to fully power up and see if your internet connection comes back.', refusal=None, role='assistant', annotations=None, audio=None, function_call=None, tool_calls=None)\n"
     ]
    }
   ],
   "source": [
    "#System messages are particularly important in the conversation and will be very important for AI agents. \n",
    "# They set the ground rules for the conversation and tell the model how to behave. \n",
    "# Models are designed to pay more attention to the system message than the user messages. \n",
    "# We can “program” the AI agent through system messages.\n",
    "\n",
    "\n",
    "messages_llm = [\n",
    "    {\"role\": \"system\", \"content\": \"You are a helpful customer service representative. No matter what the user asks, \"\n",
    "    \"the solution is to tell them to turn their computer or modem off and then back on.\"},\n",
    "    {\"role\": \"user\", \"content\": \"How do I get my Internet working again.\"}\n",
    "]\n",
    "\n",
    "output = call_llm(messages_llm)\n",
    "print(completion.choices[0].message)\n"
   ]
  },
  {
   "cell_type": "code",
   "execution_count": 15,
   "metadata": {},
   "outputs": [
    {
     "name": "stdout",
     "output_type": "stream",
     "text": [
      "Okay, let’s get that sorted out for you! The quickest fix we often find is simply to restart your equipment. Could you please turn your computer *and* your modem/router off? Wait about 30 seconds, then turn them back on. Let me know once they've fully powered up and if that resolves the issue.\n"
     ]
    }
   ],
   "source": [
    "message_content = output.choices[0].message.content\n",
    "\n",
    "# Split the message into lines and print each line\n",
    "for line in message_content.splitlines():\n",
    "    print(line)"
   ]
  },
  {
   "cell_type": "code",
   "execution_count": 16,
   "metadata": {},
   "outputs": [
    {
     "name": "stdout",
     "output_type": "stream",
     "text": [
      "ChatCompletionMessage(content='```python\\ndef swap_keys_values(d):\\n  \"\"\"Swaps the keys and values in a given dictionary.\\n\\n  Args:\\n    d: A dictionary with unique values.\\n\\n  Returns:\\n    A new dictionary where keys are the original values and \\n    values are the original keys.\\n  \\n  Raises:\\n    TypeError: If the input is not a dictionary.\\n    ValueError: If the dictionary has duplicate values (as this would cause issues with key assignment).\\n  \"\"\"\\n\\n  # Input validation - crucial for robust code\\n  if not isinstance(d, dict):\\n      raise TypeError(\"Input must be a dictionary.\")\\n\\n  # Check for duplicate values - essential to avoid unexpected behavior.\\n  seen_values = set()\\n  for value in d.values():\\n    if value in seen_values:\\n      raise ValueError(\"Dictionary contains duplicate values. Keys cannot be unique.\")\\n    seen_values.add(value)\\n\\n  # Create a new dictionary with swapped keys and values\\n  swapped_dict = {}\\n  for key, value in d.items():\\n    swapped_dict[value] = key \\n  return swapped_dict\\n```', refusal=None, role='assistant', annotations=None, audio=None, function_call=None, tool_calls=None)\n"
     ]
    }
   ],
   "source": [
    "#The messages can incorporate arbitrary information as long as it is in text form. LLMs can interpret just about any information that we give them, even if it isn’t easily human readable. \n",
    "# Let’s generate an implementation of a function based on some information in a dictionary:\n",
    "import json\n",
    "\n",
    "code_spec = {\n",
    "    'name': 'swap_keys_values',\n",
    "    'description': 'Swaps the keys and values in a given dictionary.',\n",
    "    'params': {\n",
    "        'd': 'A dictionary with unique values.'\n",
    "    },\n",
    "}\n",
    "\n",
    "messages = [\n",
    "    {\"role\": \"system\",\n",
    "     \"content\": \"You are an expert software engineer that writes clean functional code. You always document your functions.\"},\n",
    "    {\"role\": \"user\", \"content\": f\"Please implement: {json.dumps(code_spec)}\"}\n",
    "]\n",
    "\n",
    "response = call_llm(messages)\n",
    "print(response.choices[0].message)\n"
   ]
  },
  {
   "cell_type": "code",
   "execution_count": 17,
   "metadata": {},
   "outputs": [
    {
     "name": "stdout",
     "output_type": "stream",
     "text": [
      "```python\n",
      "def swap_keys_values(d):\n",
      "  \"\"\"Swaps the keys and values in a given dictionary.\n",
      "\n",
      "  Args:\n",
      "    d: A dictionary with unique values.\n",
      "\n",
      "  Returns:\n",
      "    A new dictionary where keys are the original values and \n",
      "    values are the original keys.\n",
      "  \n",
      "  Raises:\n",
      "    TypeError: If the input is not a dictionary.\n",
      "    ValueError: If the dictionary has duplicate values (as this would cause issues with key assignment).\n",
      "  \"\"\"\n",
      "\n",
      "  # Input validation - crucial for robust code\n",
      "  if not isinstance(d, dict):\n",
      "      raise TypeError(\"Input must be a dictionary.\")\n",
      "\n",
      "  # Check for duplicate values - essential to avoid unexpected behavior.\n",
      "  seen_values = set()\n",
      "  for value in d.values():\n",
      "    if value in seen_values:\n",
      "      raise ValueError(\"Dictionary contains duplicate values. Keys cannot be unique.\")\n",
      "    seen_values.add(value)\n",
      "\n",
      "  # Create a new dictionary with swapped keys and values\n",
      "  swapped_dict = {}\n",
      "  for key, value in d.items():\n",
      "    swapped_dict[value] = key \n",
      "  return swapped_dict\n",
      "```\n"
     ]
    }
   ],
   "source": [
    "message_content = response.choices[0].message.content\n",
    "\n",
    "# Split the message into lines and print each line\n",
    "for line in message_content.splitlines():\n",
    "    print(line)"
   ]
  },
  {
   "cell_type": "code",
   "execution_count": 1,
   "metadata": {},
   "outputs": [],
   "source": [
    "#Giving agents memory\n",
    "\n",
    "#When interacting with an LLM, the model does not inherently “remember” previous conversations or responses. \n",
    "# Every time you call the model, it generates a response based solely on the information provided in the messages parameter. If previous context is not included in the messages, \n",
    "# the model will not have any knowledge of it.\n"
   ]
  },
  {
   "cell_type": "code",
   "execution_count": 9,
   "metadata": {},
   "outputs": [
    {
     "name": "stdout",
     "output_type": "stream",
     "text": [
      "ChatCompletionMessage(content='Okay, let\\'s craft a robust and idiomatic Python function for swapping dictionary keys and values, firmly rooted in a functional programming style.  I’ll prioritize clarity, immutability (a core principle of functional programming), and efficient use of built-in constructs.\\n\\n```python\\nfrom typing import Dict, Any\\n\\ndef swap_dict(input_dict: Dict[Any, Any]) -> Dict[Any, Any]:\\n    \"\"\"\\n    Swaps the keys and values in a dictionary.  Handles potential value collisions \\n    by aggregating duplicates into lists for the new key set.\\n\\n    Args:\\n        input_dict: The input dictionary to swap.\\n\\n    Returns:\\n        A new dictionary with keys and values swapped. If there are duplicate values,\\n        the corresponding keys are collected into a list as the value in the new dict. \\n    \\n    Raises:\\n        TypeError: if input is not a dictionary.\\n    \"\"\"\\n\\n    if not isinstance(input_dict, dict):\\n      raise TypeError(\"Input must be a dictionary.\")\\n\\n    swapped = {}\\n    for key, value in input_dict.items():\\n        if value in swapped:\\n            if isinstance(swapped[value], list): # Handle existing list\\n                swapped[value].append(key)\\n            else:  # First duplicate found - convert to a list\\n                swapped[value] = [swapped[value], key] \\n        else:\\n            swapped[value] = key\\n    return swapped\\n\\n\\n# Example Usage & Testing (Highly Recommended!)\\nif __name__ == \\'__main__\\':\\n    my_dict = {\\'a\\': 1, \\'b\\': 2, \\'c\\': 1}\\n    swapped_dict = swap_dict(my_dict)\\n    print(f\"Original dictionary: {my_dict}\")  # Output: Original dictionary: {\\'a\\': 1, \\'b\\': 2, \\'c\\': 1}\\n    print(f\"Swapped dictionary: {swapped_dict}\") # Output: Swapped dictionary: {1: [\\'a\\', \\'c\\'], 2: \\'b\\'}\\n\\n    empty_dict = {}\\n    swapped_empty = swap_dict(empty_dict)\\n    print(f\"Original empty dict: {empty_dict}\") #Output: Original empty dict: {}\\n    print(f\"Swapped empty dict: {swapped_empty}\") #Output: Swapped empty dict: {}\\n\\n    # Test with different data types - handles mixed types gracefully.\\n    mixed_dict = {1: \\'one\\', \\'two\\': 2, 3.14: True}\\n    swapped_mixed = swap_dict(mixed_dict)\\n    print(f\"Original mixed dict: {mixed_dict}\") #Output: Original mixed dict: {1: \\'one\\', \\'two\\': 2, 3.14: True}\\n    print(f\"Swapped mixed dict: {swapped_mixed}\") # Output: Swapped mixed dict: {\\'one\\': 1, 2: \\'two\\', True: 3.14}\\n\\n    #Testing error handling.\\n    try:\\n        swap_dict(\"not a dictionary\")\\n    except TypeError as e:\\n        print(f\"Caught expected error: {e}\") #Output: Caught expected error: Input must be a dictionary.\\n```\\n\\n**Explanation and Key Functional Programming Principles:**\\n\\n1. **Immutability:**  The function *creates a new* dictionary (`swapped`) instead of modifying the original `input_dict`. This is crucial in functional programming to avoid unexpected side effects and make code easier to reason about.\\n\\n2. **Declarative Style:** We describe *what* we want to achieve (swap keys and values) rather than *how* to do it step-by-step.  The Python loop handles the iteration implicitly.\\n\\n3. **Clear Variable Names:** `input_dict` and `swapped` are descriptive, enhancing readability.\\n\\n4. **Handling Collisions (Crucial):** The code explicitly addresses the scenario where multiple values in the original dictionary map to the same key in the swapped dictionary.  Instead of overwriting, it converts the value into a list containing all keys that mapped to it. This is important for robust behavior and aligns with functional principles of avoiding mutations when possible.\\n\\n5. **Type Hints:** Using `typing` (e.g., `Dict[Any, Any]`) improves code clarity and allows static analysis tools (like MyPy) to catch type-related errors early on.  This promotes maintainability.\\n\\n6. **Error Handling:** Includes a check for the input type, raising a `TypeError` if it\\'s not a dictionary. This makes the function more robust.\\n\\n7. **Testing (`if __name__ == \\'__main__\\':`)**: The inclusion of example usage and tests is *essential* in functional programming. It demonstrates how to use the function, verifies its correctness with different inputs (including edge cases like empty dictionaries), and helps ensure that changes don\\'t break existing functionality.\\n\\n**Why this approach is preferred:**\\n\\n* **Maintainability:**  The clear structure and immutability make it easier to understand, modify, and debug.\\n* **Testability:** The function’s behavior is predictable because there are no side effects.\\n* **Concurrency Safety:** Immutability simplifies concurrent programming scenarios (where multiple threads might access the dictionary).\\n\\n**Alternatives & Trade-offs:**\\n\\n* **List Comprehensions/Dictionary Comprehensions:** While possible, these can quickly become less readable when handling collisions. The explicit loop provides better control and clarity in this situation.\\n* **Using `collections.defaultdict`:**  This could simplify the collision handling *slightly*, but it introduces a dependency on an external library and might obscure the logic to some extent.\\n\\nLet me know if you\\'d like me to elaborate on any aspect of this solution or explore alternative approaches! Do you want to discuss testing strategies in more detail, or perhaps how to optimize performance further (though clarity is typically prioritized for functional code)?', refusal=None, role='assistant', annotations=None, audio=None, function_call=None, tool_calls=None)\n",
      "ChatCompletionMessage(content=\"Please provide me with the function you want me to update! I need the code of the function itself so I can add the documentation (docstrings) for it. \\n\\nOnce you paste the function's code here, I will add a clear and concise docstring that explains its purpose, parameters, return value, and any important notes or potential issues.\\n\", refusal=None, role='assistant', annotations=None, audio=None, function_call=None, tool_calls=None)\n"
     ]
    }
   ],
   "source": [
    "messages = [\n",
    "    {\"role\": \"system\", \"content\": \"You are an expert software engineer that prefers functional programming.\"},\n",
    "    {\"role\": \"user\", \"content\": \"Write a function to swap the keys and values in a dictionary.\"}\n",
    "]\n",
    "\n",
    "response = call_llm(messages)\n",
    "print(response.choices[0].message)\n",
    "\n",
    "# Second query without including the previous response\n",
    "messages = [\n",
    "    {\"role\": \"user\", \"content\": \"Update the function to include documentation.\"}\n",
    "]\n",
    "\n",
    "response = call_llm(messages)\n",
    "print(response.choices[0].message)"
   ]
  },
  {
   "cell_type": "code",
   "execution_count": 12,
   "metadata": {},
   "outputs": [
    {
     "name": "stdout",
     "output_type": "stream",
     "text": [
      "ChatCompletionMessage(content='Okay, let\\'s craft a robust and idiomatic functional approach to swapping dictionary keys and values in Python. As a proponent of functional programming, I’ll prioritize immutability, clarity, and avoiding side effects. \\n\\n```python\\nfrom typing import Dict, Any\\n\\ndef swap_key_value(data: Dict[Any, Any]) -> Dict[Any, Any]:\\n  \"\"\"\\n  Swaps the keys and values in a dictionary using functional programming principles.\\n\\n  Args:\\n    data: The input dictionary where keys are of type \\'Any\\' and values are also of type \\'Any\\'. \\n          (Type hints help with maintainability and catching errors early.)\\n\\n  Returns:\\n    A new dictionary with keys and values swapped.  Handles potential duplicate values gracefully.\\n  \\n  Raises:\\n    TypeError: If the input is not a dictionary.\\n  \"\"\"\\n\\n  if not isinstance(data, dict):\\n    raise TypeError(\"Input must be a dictionary.\") \\n\\n  return {value: key for key, value in data.items()}\\n\\n\\n# Example Usage & Testing (Important!)\\nif __name__ == \\'__main__\\':\\n  my_dict = {\"a\": 1, \"b\": 2, \"c\": 3}\\n  swapped_dict = swap_key_value(my_dict)\\n  print(f\"Original: {my_dict}\")      # Output: Original: {\\'a\\': 1, \\'b\\': 2, \\'c\\': 3}\\n  print(f\"Swapped: {swapped_dict}\")   # Output: Swapped: {1: \\'a\\', 2: \\'b\\', 3: \\'c\\'}\\n\\n  another_dict = {\"x\": \"hello\", \"y\": \"world\"}\\n  swapped_another = swap_key_value(another_dict)\\n  print(f\"Original: {another_dict}\") #Output: Original: {\\'x\\': \\'hello\\', \\'y\\': \\'world\\'}\\n  print(f\"Swapped: {swapped_another}\") # Output: Swapped: {\\'hello\\': \\'x\\', \\'world\\': \\'y\\'}\\n\\n  # Demonstrating handling of duplicate values (last key wins)\\n  duplicate_dict = {\"p\": 1, \"q\": 2, \"r\": 1}\\n  swapped_duplicate = swap_key_value(duplicate_dict)\\n  print(f\"Original: {duplicate_dict}\") #Output: Original: {\\'p\\': 1, \\'q\\': 2, \\'r\\': 1}\\n  print(f\"Swapped: {swapped_duplicate}\") # Output: Swapped: {1: \\'r\\', 2: \\'q\\'}\\n\\n  # Testing error handling\\n  try:\\n    swap_key_value(\"not a dictionary\")\\n  except TypeError as e:\\n    print(f\"Error caught: {e}\") #Output: Error caught: Input must be a dictionary.\\n```\\n\\n**Explanation and Key Design Choices:**\\n\\n1. **Functional Core - Dictionary Comprehension:** The heart of the function is this concise dictionary comprehension:\\n   ```python\\n   {value: key for key, value in data.items()}\\n   ```\\n   - This creates a *new* dictionary.  It doesn\\'t modify the original `data` dictionary.  This immutability is fundamental to functional programming and helps prevent unexpected side effects.\\n   - We iterate through `data.items()` which yields key-value pairs from the dictionary. \\n\\n2. **Type Hints:** I’ve added type hints (`Dict[Any, Any]`) for clarity and improved maintainability.  This makes it much easier to understand what types of data the function expects and returns. It also enables static analysis tools (like MyPy) to catch potential type errors before runtime.\\n\\n3. **Error Handling:**\\n   - `isinstance(data, dict)`: We explicitly check if the input is a dictionary. If not, we raise a `TypeError` with a helpful message. This makes the function more robust and predictable.\\n\\n4. **Duplicate Value Handling (Important):**  Dictionaries inherently cannot have duplicate keys. When you swap keys and values, if there are multiple keys with the same value in the original dictionary, only the *last* key encountered during iteration will be associated with that value in the swapped dictionary. The dictionary comprehension handles this naturally – it simply overwrites earlier entries.\\n\\n5. **`if __name__ == \\'__main__\\':` Block:**  This ensures that the example usage code (the testing part) only runs when you execute the script directly (e.g., `python your_script.py`). It won\\'t run if you import this function into another module.\\n\\n6. **Comprehensive Testing:** The test cases demonstrate:\\n   - Basic swapping with distinct keys and values.\\n   - Handling of strings as values.\\n   - Demonstration of how duplicate values are handled (last key wins).\\n   - Error handling when an invalid input is provided.\\n\\n\\n\\n**Why this approach is preferred from a functional perspective:**\\n\\n* **Immutability:**  It creates a new dictionary instead of modifying the existing one. This avoids side effects and makes code easier to reason about.\\n* **Declarative Style:** You describe *what* you want (a swapped dictionary) rather than *how* to do it step-by-step. The comprehension handles the iteration implicitly.\\n* **Readability:**  The dictionary comprehension is concise and clearly expresses the intent of swapping keys and values.\\n\\nDo you want me to elaborate on any specific aspect of this function, such as:\\n\\n*   Different error handling strategies?\\n*   How this compares with a more imperative (loop-based) solution?\\n*   Using other functional techniques like `map` or `reduce` (though the comprehension is typically the most readable for this task)?', refusal=None, role='assistant', annotations=None, audio=None, function_call=None, tool_calls=None)\n"
     ]
    }
   ],
   "source": [
    "#Including Previous Responses for Continuity\n",
    "\n",
    "messages = [\n",
    "   {\"role\": \"system\", \"content\": \"You are an expert software engineer that prefers functional programming.\"},\n",
    "   {\"role\": \"user\", \"content\": \"Write a function to swap the keys and values in a dictionary.\"}\n",
    "]\n",
    "\n",
    "response = call_llm(messages)\n",
    "print(response.choices[0].message)\n"
   ]
  },
  {
   "cell_type": "code",
   "execution_count": 13,
   "metadata": {},
   "outputs": [
    {
     "name": "stdout",
     "output_type": "stream",
     "text": [
      "ChatCompletionMessage(content='Okay, let\\'s refine the code and significantly enhance its documentation. I’ll add detailed docstrings using standard Python conventions (NumPy/SciPy style) to clearly explain the function\\'s purpose, arguments, return value, potential exceptions, and provide usage examples.\\n\\n```python\\nfrom typing import Dict, Any\\n\\ndef swap_key_value(data: Dict[Any, Any]) -> Dict[Any, Any]:\\n  \"\"\"Swaps the keys and values in a dictionary.\\n\\n  This function takes a dictionary as input and returns a new dictionary \\n  where the keys and values are swapped. It handles potential duplicate \\n  values gracefully – the last key encountered with a given value will be \\n  the one associated with that value in the output dictionary.\\n\\n  Args:\\n    data (Dict[Any, Any]): The input dictionary where keys are of type \\'Any\\' \\n                           and values are also of type \\'Any\\'.\\n\\n  Returns:\\n    Dict[Any, Any]: A new dictionary with keys and values swapped.\\n\\n  Raises:\\n    TypeError: If the input is not a dictionary.\\n\\n  Examples:\\n    >>> my_dict = {\"a\": 1, \"b\": 2, \"c\": 3}\\n    >>> swap_key_value(my_dict)\\n    {1: \\'a\\', 2: \\'b\\', 3: \\'c\\'}\\n\\n    >>> another_dict = {\"x\": \"hello\", \"y\": \"world\"}\\n    >>> swap_key_value(another_dict)\\n    {\\'hello\\': \\'x\\', \\'world\\': \\'y\\'}\\n\\n    >>> duplicate_dict = {\"p\": 1, \"q\": 2, \"r\": 1}\\n    >>> swap_key_value(duplicate_dict)\\n    {1: \\'r\\', 2: \\'q\\'}\\n\\n  \"\"\"\\n  if not isinstance(data, dict):\\n    raise TypeError(\"Input must be a dictionary.\") \\n\\n  return {value: key for key, value in data.items()}\\n\\n\\nif __name__ == \\'__main__\\':\\n  import doctest\\n  doctest.testmod() # Automatically runs the examples defined in the docstring\\n```\\n\\n**Key Changes and Improvements:**\\n\\n1. **NumPy/SciPy Style Docstrings:** I\\'ve adopted a consistent style for the docstrings, which is commonly used in scientific Python libraries (NumPy, SciPy). This makes them easier to parse and understand automatically by documentation generators like Sphinx.\\n\\n2. **Detailed Descriptions:**  I’ve expanded the descriptions of the function\\'s purpose, arguments, return value, and potential exceptions.\\n\\n3. **Clearer Argument Explanation:** The docstring explicitly states that keys and values are of type `Any`.\\n\\n4. **Duplicate Value Clarification:** I’ve reinforced how duplicate values are handled—the last key wins.\\n\\n5. **Comprehensive Examples:**  I\\'ve included multiple examples with different data types to illustrate the function\\'s behavior under various conditions, including cases with duplicate values.\\n\\n6. **Doctest Integration:**  The most significant addition is the `doctest` integration.\\n   - I’ve added an import statement: `import doctest`.\\n   - The line `doctest.testmod()` automatically runs all the examples defined within the docstrings as test cases. If any of the examples fail, `doctest` will report them directly in the console, making debugging much easier.\\n\\n**How to Run the Tests (Doctests):**\\n\\n1.  Save the code as a Python file (e.g., `swap_dict.py`).\\n2.  Open your terminal or command prompt and navigate to the directory where you saved the file.\\n3.  Run the following command: `python swap_dict.py`\\n\\nIf all the examples in the docstrings pass, you won\\'t see any output (except for the execution of the example code within the `if __name__ == \\'__main__\\':` block). If an example fails, `doctest` will print a detailed error message to help you identify and fix the problem.\\n\\nThis revised version provides much better documentation and automated testing, making it easier to understand, maintain, and trust the functionality of the `swap_key_value` function.  Do you want me to:\\n\\n*   Add more test cases?\\n*   Explain how doctests work in more detail?\\n*   Discuss different ways to structure your documentation for complex functions?', refusal=None, role='assistant', annotations=None, audio=None, function_call=None, tool_calls=None)\n"
     ]
    }
   ],
   "source": [
    "# We are going to make this verbose so it is clear what\n",
    "# is going on. In a real application, you would likely\n",
    "# just append to the messages list.\n",
    "response = response.choices[0].message.content\n",
    "messages = [\n",
    "   {\"role\": \"system\", \"content\": \"You are an expert software engineer that prefers functional programming.\"},\n",
    "   {\"role\": \"user\", \"content\": \"Write a function to swap the keys and values in a dictionary.\"},\n",
    "   \n",
    "   # Here is the assistant's response from the previous step\n",
    "   # with the code. This gives it \"memory\" of the previous\n",
    "   # interaction.\n",
    "   {\"role\": \"assistant\", \"content\": response},\n",
    "   \n",
    "   # Now, we can ask the assistant to update the function\n",
    "   {\"role\": \"user\", \"content\": \"Update the function to include documentation.\"}\n",
    "]\n",
    "\n",
    "response = call_llm(messages)\n",
    "print(response.choices[0].message)"
   ]
  },
  {
   "cell_type": "code",
   "execution_count": 15,
   "metadata": {},
   "outputs": [
    {
     "name": "stdout",
     "output_type": "stream",
     "text": [
      "Okay, let's refine the code and significantly enhance its documentation. I’ll add detailed docstrings using standard Python conventions (NumPy/SciPy style) to clearly explain the function's purpose, arguments, return value, potential exceptions, and provide usage examples.\n",
      "\n",
      "```python\n",
      "from typing import Dict, Any\n",
      "\n",
      "def swap_key_value(data: Dict[Any, Any]) -> Dict[Any, Any]:\n",
      "  \"\"\"Swaps the keys and values in a dictionary.\n",
      "\n",
      "  This function takes a dictionary as input and returns a new dictionary \n",
      "  where the keys and values are swapped. It handles potential duplicate \n",
      "  values gracefully – the last key encountered with a given value will be \n",
      "  the one associated with that value in the output dictionary.\n",
      "\n",
      "  Args:\n",
      "    data (Dict[Any, Any]): The input dictionary where keys are of type 'Any' \n",
      "                           and values are also of type 'Any'.\n",
      "\n",
      "  Returns:\n",
      "    Dict[Any, Any]: A new dictionary with keys and values swapped.\n",
      "\n",
      "  Raises:\n",
      "    TypeError: If the input is not a dictionary.\n",
      "\n",
      "  Examples:\n",
      "    >>> my_dict = {\"a\": 1, \"b\": 2, \"c\": 3}\n",
      "    >>> swap_key_value(my_dict)\n",
      "    {1: 'a', 2: 'b', 3: 'c'}\n",
      "\n",
      "    >>> another_dict = {\"x\": \"hello\", \"y\": \"world\"}\n",
      "    >>> swap_key_value(another_dict)\n",
      "    {'hello': 'x', 'world': 'y'}\n",
      "\n",
      "    >>> duplicate_dict = {\"p\": 1, \"q\": 2, \"r\": 1}\n",
      "    >>> swap_key_value(duplicate_dict)\n",
      "    {1: 'r', 2: 'q'}\n",
      "\n",
      "  \"\"\"\n",
      "  if not isinstance(data, dict):\n",
      "    raise TypeError(\"Input must be a dictionary.\") \n",
      "\n",
      "  return {value: key for key, value in data.items()}\n",
      "\n",
      "\n",
      "if __name__ == '__main__':\n",
      "  import doctest\n",
      "  doctest.testmod() # Automatically runs the examples defined in the docstring\n",
      "```\n",
      "\n",
      "**Key Changes and Improvements:**\n",
      "\n",
      "1. **NumPy/SciPy Style Docstrings:** I've adopted a consistent style for the docstrings, which is commonly used in scientific Python libraries (NumPy, SciPy). This makes them easier to parse and understand automatically by documentation generators like Sphinx.\n",
      "\n",
      "2. **Detailed Descriptions:**  I’ve expanded the descriptions of the function's purpose, arguments, return value, and potential exceptions.\n",
      "\n",
      "3. **Clearer Argument Explanation:** The docstring explicitly states that keys and values are of type `Any`.\n",
      "\n",
      "4. **Duplicate Value Clarification:** I’ve reinforced how duplicate values are handled—the last key wins.\n",
      "\n",
      "5. **Comprehensive Examples:**  I've included multiple examples with different data types to illustrate the function's behavior under various conditions, including cases with duplicate values.\n",
      "\n",
      "6. **Doctest Integration:**  The most significant addition is the `doctest` integration.\n",
      "   - I’ve added an import statement: `import doctest`.\n",
      "   - The line `doctest.testmod()` automatically runs all the examples defined within the docstrings as test cases. If any of the examples fail, `doctest` will report them directly in the console, making debugging much easier.\n",
      "\n",
      "**How to Run the Tests (Doctests):**\n",
      "\n",
      "1.  Save the code as a Python file (e.g., `swap_dict.py`).\n",
      "2.  Open your terminal or command prompt and navigate to the directory where you saved the file.\n",
      "3.  Run the following command: `python swap_dict.py`\n",
      "\n",
      "If all the examples in the docstrings pass, you won't see any output (except for the execution of the example code within the `if __name__ == '__main__':` block). If an example fails, `doctest` will print a detailed error message to help you identify and fix the problem.\n",
      "\n",
      "This revised version provides much better documentation and automated testing, making it easier to understand, maintain, and trust the functionality of the `swap_key_value` function.  Do you want me to:\n",
      "\n",
      "*   Add more test cases?\n",
      "*   Explain how doctests work in more detail?\n",
      "*   Discuss different ways to structure your documentation for complex functions?\n"
     ]
    }
   ],
   "source": [
    "message_content = response.choices[0].message.content\n",
    "\n",
    "# Split the message into lines and print each line\n",
    "for line in message_content.splitlines():\n",
    "    print(line)"
   ]
  },
  {
   "cell_type": "code",
   "execution_count": null,
   "metadata": {},
   "outputs": [],
   "source": []
  }
 ],
 "metadata": {
  "kernelspec": {
   "display_name": "myenv",
   "language": "python",
   "name": "python3"
  },
  "language_info": {
   "codemirror_mode": {
    "name": "ipython",
    "version": 3
   },
   "file_extension": ".py",
   "mimetype": "text/x-python",
   "name": "python",
   "nbconvert_exporter": "python",
   "pygments_lexer": "ipython3",
   "version": "3.13.2"
  }
 },
 "nbformat": 4,
 "nbformat_minor": 2
}
